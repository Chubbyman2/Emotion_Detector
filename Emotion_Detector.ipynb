{
  "nbformat": 4,
  "nbformat_minor": 0,
  "metadata": {
    "colab": {
      "name": "Emotion_Detector.ipynb",
      "provenance": [],
      "collapsed_sections": [],
      "machine_shape": "hm",
      "include_colab_link": true
    },
    "kernelspec": {
      "name": "python3",
      "display_name": "Python 3"
    },
    "accelerator": "GPU"
  },
  "cells": [
    {
      "cell_type": "markdown",
      "metadata": {
        "id": "view-in-github",
        "colab_type": "text"
      },
      "source": [
        "<a href=\"https://colab.research.google.com/github/Chubbyman2/Emotion_Detector/blob/main/Emotion_Detector.ipynb\" target=\"_parent\"><img src=\"https://colab.research.google.com/assets/colab-badge.svg\" alt=\"Open In Colab\"/></a>"
      ]
    },
    {
      "cell_type": "code",
      "metadata": {
        "id": "iTOesErakfpv"
      },
      "source": [
        "import os\n",
        "import keras\n",
        "import numpy as np\n",
        "from keras import optimizers, models, layers\n",
        "from keras.callbacks import ModelCheckpoint, EarlyStopping, ReduceLROnPlateau\n",
        "from keras.layers import Conv2D, Dense, Dropout, Flatten, Input, MaxPool2D, BatchNormalization, Activation\n",
        "from keras.optimizers import Adam\n",
        "from keras.preprocessing.image import ImageDataGenerator"
      ],
      "execution_count": 2,
      "outputs": []
    },
    {
      "cell_type": "code",
      "metadata": {
        "id": "nYk1TSrdZX8Z"
      },
      "source": [
        "import zipfile\n",
        "from google.colab import drive\n",
        "drive.mount('/content/drive/')\n",
        "\n",
        "!unzip \"/content/drive/My Drive/facial_expressions_train.zip\"\n",
        "!unzip \"/content/drive/My Drive/facial_expressions_validation.zip\""
      ],
      "execution_count": null,
      "outputs": []
    },
    {
      "cell_type": "code",
      "metadata": {
        "id": "5CgeZd30mFYT"
      },
      "source": [
        "train_dir = \"train\"\n",
        "val_dir = \"validation\""
      ],
      "execution_count": 19,
      "outputs": []
    },
    {
      "cell_type": "code",
      "metadata": {
        "colab": {
          "base_uri": "https://localhost:8080/",
          "height": 241
        },
        "id": "arTbWRdTZdbU",
        "outputId": "7e40bff9-17f3-4cbe-d0ca-94d573340eeb"
      },
      "source": [
        "# Image sample from dataset\n",
        "# Note that they are all grayscale images\n",
        "from PIL import Image\n",
        "\n",
        "img = Image.open(\"train/Angry/0.jpg\")\n",
        "img = img.resize((224, 224))\n",
        "img"
      ],
      "execution_count": 20,
      "outputs": [
        {
          "output_type": "execute_result",
          "data": {
            "image/png": "[encoded data removed]",
            "text/plain": [
              "<PIL.Image.Image image mode=L size=224x224 at 0x7F2A657CB5C0>"
            ]
          },
          "metadata": {
            "tags": []
          },
          "execution_count": 20
        }
      ]
    },
    {
      "cell_type": "markdown",
      "metadata": {
        "id": "kBbmZyDkvoMa"
      },
      "source": [
        "**Data Pre-Processing**"
      ]
    },
    {
      "cell_type": "code",
      "metadata": {
        "colab": {
          "base_uri": "https://localhost:8080/"
        },
        "id": "p7ha7jFlvPwV",
        "outputId": "f16272d9-33bc-4008-9cbc-443aff945cf8"
      },
      "source": [
        "# Create a dictionary of the classes and a reverse dictionary\n",
        "classes = dict()\n",
        "reverse_classes = dict()\n",
        "count = 0\n",
        "for folder in os.listdir(\"train\"):\n",
        "    classes[folder] = count\n",
        "    reverse_classes[count] = img\n",
        "    count = count + 1\n",
        "\n",
        "classes"
      ],
      "execution_count": 39,
      "outputs": [
        {
          "output_type": "execute_result",
          "data": {
            "text/plain": [
              "{'Angry': 2, 'Happy': 4, 'Neutral': 1, 'Sad': 0, 'Surprise': 3}"
            ]
          },
          "metadata": {
            "tags": []
          },
          "execution_count": 39
        }
      ]
    },
    {
      "cell_type": "code",
      "metadata": {
        "id": "lZyc0nM8l68M"
      },
      "source": [
        "BATCH_SIZE = 64\n",
        "\n",
        "# Since the data is separated into training and validation sets this time\n",
        "# we can use the ImageDataGenerator directly\n",
        "\n",
        "# Data augmentation for train only\n",
        "train_datagen = ImageDataGenerator(rescale=1./255,\n",
        "                                   rotation_range=30,\n",
        "                                   shear_range=0.3,\n",
        "                                   width_shift_range=0.3,\n",
        "                                   height_shift_range=0.3,\n",
        "                                   zoom_range=0.3,\n",
        "                                   horizontal_flip=True,\n",
        "                                   fill_mode=\"nearest\")\n",
        "# Resize only\n",
        "val_datagen = ImageDataGenerator(rescale=1./255)"
      ],
      "execution_count": 21,
      "outputs": []
    },
    {
      "cell_type": "code",
      "metadata": {
        "colab": {
          "base_uri": "https://localhost:8080/"
        },
        "id": "e_e0F0g5nAwk",
        "outputId": "206748e4-6a39-4a13-b854-6c34e36a9727"
      },
      "source": [
        "# Create the generators for model.fit()\n",
        "train_generator = train_datagen.flow_from_directory(train_dir,\n",
        "                                                    color_mode='grayscale',\n",
        "                                                    target_size=(224, 224),\n",
        "                                                    batch_size=BATCH_SIZE,\n",
        "                                                    class_mode='categorical',\n",
        "                                                    shuffle=True)\n",
        "\n",
        "val_generator = val_datagen.flow_from_directory(val_dir,\n",
        "                                                color_mode='grayscale',\n",
        "                                                target_size=(224, 224),\n",
        "                                                batch_size=BATCH_SIZE,\n",
        "                                                class_mode='categorical',\n",
        "                                                shuffle=True)\n",
        "\n",
        "# Note the text shown\n",
        "num_train = 24256\n",
        "num_val = 3006"
      ],
      "execution_count": 35,
      "outputs": [
        {
          "output_type": "stream",
          "text": [
            "Found 24256 images belonging to 5 classes.\n",
            "Found 3006 images belonging to 5 classes.\n"
          ],
          "name": "stdout"
        }
      ]
    },
    {
      "cell_type": "markdown",
      "metadata": {
        "id": "8NCTJyAtvlWi"
      },
      "source": [
        "**Create Model**"
      ]
    },
    {
      "cell_type": "code",
      "metadata": {
        "id": "z2ubgKVGnd3t"
      },
      "source": [
        "# Apply batchnormalization before activation function\n",
        "# He normal initialization works best on layers w/ ReLU activation\n",
        "model = models.Sequential([\n",
        "    # Block 1\n",
        "    # Leave strides as default since images are small\n",
        "    Conv2D(32, (3, 3), padding=\"same\", kernel_initializer=\"he_normal\", input_shape=(224, 224, 1)),\n",
        "    BatchNormalization(),\n",
        "    Activation(\"relu\"),\n",
        "    Conv2D(32, (3, 3), padding=\"same\", kernel_initializer=\"he_normal\"),\n",
        "    BatchNormalization(),\n",
        "    Activation(\"relu\"),\n",
        "    MaxPool2D((2, 2)),\n",
        "    Dropout(0.25),\n",
        "\n",
        "    # Block 2\n",
        "    Conv2D(64, (3, 3), padding=\"same\", kernel_initializer=\"he_normal\"),\n",
        "    BatchNormalization(),\n",
        "    Activation(\"relu\"),\n",
        "    Conv2D(64, (3, 3), padding=\"same\", kernel_initializer=\"he_normal\"),\n",
        "    BatchNormalization(),\n",
        "    Activation(\"relu\"),\n",
        "    MaxPool2D((2, 2)),\n",
        "    Dropout(0.25),\n",
        "\n",
        "    # Block 3\n",
        "    Conv2D(128, (3, 3), padding=\"same\", kernel_initializer=\"he_normal\"),\n",
        "    BatchNormalization(),\n",
        "    Activation(\"relu\"),\n",
        "    Conv2D(128, (3, 3), padding=\"same\", kernel_initializer=\"he_normal\"),\n",
        "    BatchNormalization(),\n",
        "    Activation(\"relu\"),\n",
        "    MaxPool2D((2, 2)),\n",
        "    Dropout(0.25),\n",
        "\n",
        "    # Block 4\n",
        "    Conv2D(256, (3, 3), padding=\"same\", kernel_initializer=\"he_normal\"),\n",
        "    BatchNormalization(),\n",
        "    Activation(\"relu\"),\n",
        "    Conv2D(256, (3, 3), padding=\"same\", kernel_initializer=\"he_normal\"),\n",
        "    BatchNormalization(),\n",
        "    Activation(\"relu\"),\n",
        "    MaxPool2D((2, 2)),\n",
        "    Dropout(0.25),\n",
        "\n",
        "    # Block 5\n",
        "    Flatten(),\n",
        "    Dense(64, kernel_initializer=\"he_normal\"),\n",
        "    BatchNormalization(),\n",
        "    Activation(\"relu\"),\n",
        "    Dropout(0.5),\n",
        "\n",
        "    # Block 6\n",
        "    Dense(128, kernel_initializer=\"he_normal\"),\n",
        "    BatchNormalization(),\n",
        "    Activation(\"relu\"),\n",
        "    Dropout(0.5),\n",
        "\n",
        "    # Output layer\n",
        "    # Xavier (a.k.a. GlorotNormal) works better on layers w/ softmax activation\n",
        "    Dense(5, kernel_initializer=\"glorot_normal\", activation=\"softmax\")\n",
        "])"
      ],
      "execution_count": 28,
      "outputs": []
    },
    {
      "cell_type": "code",
      "metadata": {
        "id": "GWdGQrRMsaV-"
      },
      "source": [
        "model.compile(optimizer=Adam(lr=0.001), loss=\"categorical_crossentropy\", metrics=[\"accuracy\"])"
      ],
      "execution_count": 29,
      "outputs": []
    },
    {
      "cell_type": "code",
      "metadata": {
        "id": "eaeoOv3qrbiP"
      },
      "source": [
        "Checkpoint = ModelCheckpoint(\"Emotion_Detector.h5\",\n",
        "                             monitor=\"val_loss\",\n",
        "                             mode=\"min\",\n",
        "                             save_best_only=True,\n",
        "                             verbose=1)\n",
        "EarlyStopping = EarlyStopping(monitor=\"val_loss\",\n",
        "                              min_delta=0,\n",
        "                              patience=3,\n",
        "                              verbose=1,\n",
        "                              restore_best_weights=True)\n",
        "Reduce_LR = ReduceLROnPlateau(monitor=\"val_loss\",\n",
        "                              factor=0.2, # Decrease by 20% each time\n",
        "                              patience=3,\n",
        "                              verbose=1,\n",
        "                              min_delta=0.0001)"
      ],
      "execution_count": 33,
      "outputs": []
    },
    {
      "cell_type": "code",
      "metadata": {
        "colab": {
          "base_uri": "https://localhost:8080/"
        },
        "id": "NtKhSGySsVw5",
        "outputId": "8283591c-bf7c-49f9-831f-594bfd9c8288"
      },
      "source": [
        "history = model.fit(train_generator, \n",
        "                    steps_per_epoch=num_train//BATCH_SIZE,\n",
        "                    epochs=25,\n",
        "                    callbacks=[Checkpoint, EarlyStopping, Reduce_LR],\n",
        "                    validation_data=val_generator,\n",
        "                    validation_steps=num_val//BATCH_SIZE)"
      ],
      "execution_count": 36,
      "outputs": [
        {
          "output_type": "stream",
          "text": [
            "Epoch 1/25\n",
            "  2/379 [..............................] - ETA: 33s - loss: 2.3219 - accuracy: 0.1719WARNING:tensorflow:Callbacks method `on_train_batch_end` is slow compared to the batch time (batch time: 0.0690s vs `on_train_batch_end` time: 0.1105s). Check your callbacks.\n",
            "379/379 [==============================] - ETA: 0s - loss: 1.7555 - accuracy: 0.2533\n",
            "Epoch 00001: val_loss improved from inf to 1.57037, saving model to Emotion_Detector.h5\n",
            "379/379 [==============================] - 107s 283ms/step - loss: 1.7555 - accuracy: 0.2533 - val_loss: 1.5704 - val_accuracy: 0.3026\n",
            "Epoch 2/25\n",
            "379/379 [==============================] - ETA: 0s - loss: 1.6015 - accuracy: 0.2824\n",
            "Epoch 00002: val_loss improved from 1.57037 to 1.54652, saving model to Emotion_Detector.h5\n",
            "379/379 [==============================] - 107s 282ms/step - loss: 1.6015 - accuracy: 0.2824 - val_loss: 1.5465 - val_accuracy: 0.3006\n",
            "Epoch 3/25\n",
            "379/379 [==============================] - ETA: 0s - loss: 1.5632 - accuracy: 0.2939\n",
            "Epoch 00003: val_loss improved from 1.54652 to 1.54304, saving model to Emotion_Detector.h5\n",
            "379/379 [==============================] - 106s 281ms/step - loss: 1.5632 - accuracy: 0.2939 - val_loss: 1.5430 - val_accuracy: 0.3088\n",
            "Epoch 4/25\n",
            "379/379 [==============================] - ETA: 0s - loss: 1.5456 - accuracy: 0.3038\n",
            "Epoch 00004: val_loss improved from 1.54304 to 1.52300, saving model to Emotion_Detector.h5\n",
            "379/379 [==============================] - 106s 280ms/step - loss: 1.5456 - accuracy: 0.3038 - val_loss: 1.5230 - val_accuracy: 0.3295\n",
            "Epoch 5/25\n",
            "379/379 [==============================] - ETA: 0s - loss: 1.5339 - accuracy: 0.3141\n",
            "Epoch 00005: val_loss improved from 1.52300 to 1.51161, saving model to Emotion_Detector.h5\n",
            "379/379 [==============================] - 106s 280ms/step - loss: 1.5339 - accuracy: 0.3141 - val_loss: 1.5116 - val_accuracy: 0.3200\n",
            "Epoch 6/25\n",
            "379/379 [==============================] - ETA: 0s - loss: 1.4958 - accuracy: 0.3346\n",
            "Epoch 00006: val_loss did not improve from 1.51161\n",
            "379/379 [==============================] - 106s 279ms/step - loss: 1.4958 - accuracy: 0.3346 - val_loss: 1.5430 - val_accuracy: 0.3261\n",
            "Epoch 7/25\n",
            "379/379 [==============================] - ETA: 0s - loss: 1.4436 - accuracy: 0.3678\n",
            "Epoch 00007: val_loss improved from 1.51161 to 1.43890, saving model to Emotion_Detector.h5\n",
            "379/379 [==============================] - 106s 279ms/step - loss: 1.4436 - accuracy: 0.3678 - val_loss: 1.4389 - val_accuracy: 0.3702\n",
            "Epoch 8/25\n",
            "379/379 [==============================] - ETA: 0s - loss: 1.3973 - accuracy: 0.3914\n",
            "Epoch 00008: val_loss improved from 1.43890 to 1.36276, saving model to Emotion_Detector.h5\n",
            "379/379 [==============================] - 106s 279ms/step - loss: 1.3973 - accuracy: 0.3914 - val_loss: 1.3628 - val_accuracy: 0.4270\n",
            "Epoch 9/25\n",
            "379/379 [==============================] - ETA: 0s - loss: 1.3644 - accuracy: 0.4135\n",
            "Epoch 00009: val_loss improved from 1.36276 to 1.32246, saving model to Emotion_Detector.h5\n",
            "379/379 [==============================] - 105s 277ms/step - loss: 1.3644 - accuracy: 0.4135 - val_loss: 1.3225 - val_accuracy: 0.4504\n",
            "Epoch 10/25\n",
            "379/379 [==============================] - ETA: 0s - loss: 1.3284 - accuracy: 0.4378\n",
            "Epoch 00010: val_loss did not improve from 1.32246\n",
            "379/379 [==============================] - 105s 277ms/step - loss: 1.3284 - accuracy: 0.4378 - val_loss: 1.3299 - val_accuracy: 0.4650\n",
            "Epoch 11/25\n",
            "379/379 [==============================] - ETA: 0s - loss: 1.3001 - accuracy: 0.4517\n",
            "Epoch 00011: val_loss did not improve from 1.32246\n",
            "379/379 [==============================] - 105s 276ms/step - loss: 1.3001 - accuracy: 0.4517 - val_loss: 1.4880 - val_accuracy: 0.4093\n",
            "Epoch 12/25\n",
            "379/379 [==============================] - ETA: 0s - loss: 1.2597 - accuracy: 0.4729\n",
            "Epoch 00012: val_loss did not improve from 1.32246\n",
            "Restoring model weights from the end of the best epoch.\n",
            "\n",
            "Epoch 00012: ReduceLROnPlateau reducing learning rate to 0.00020000000949949026.\n",
            "379/379 [==============================] - 105s 276ms/step - loss: 1.2597 - accuracy: 0.4729 - val_loss: 1.6660 - val_accuracy: 0.3838\n",
            "Epoch 00012: early stopping\n"
          ],
          "name": "stdout"
        }
      ]
    },
    {
      "cell_type": "code",
      "metadata": {
        "id": "vbRkSvKVuz-K"
      },
      "source": [
        "model.save(\"Emotion_Detector.h5\")"
      ],
      "execution_count": 37,
      "outputs": []
    },
    {
      "cell_type": "code",
      "metadata": {
        "colab": {
          "base_uri": "https://localhost:8080/"
        },
        "id": "TphXya10vBn5",
        "outputId": "fe766130-926d-4dbf-ed9d-557092d615db"
      },
      "source": [
        "model.summary()"
      ],
      "execution_count": 38,
      "outputs": [
        {
          "output_type": "stream",
          "text": [
            "Model: \"sequential\"\n",
            "_________________________________________________________________\n",
            "Layer (type)                 Output Shape              Param #   \n",
            "=================================================================\n",
            "conv2d_8 (Conv2D)            (None, 224, 224, 32)      320       \n",
            "_________________________________________________________________\n",
            "batch_normalization_10 (Batc (None, 224, 224, 32)      128       \n",
            "_________________________________________________________________\n",
            "activation_10 (Activation)   (None, 224, 224, 32)      0         \n",
            "_________________________________________________________________\n",
            "conv2d_9 (Conv2D)            (None, 224, 224, 32)      9248      \n",
            "_________________________________________________________________\n",
            "batch_normalization_11 (Batc (None, 224, 224, 32)      128       \n",
            "_________________________________________________________________\n",
            "activation_11 (Activation)   (None, 224, 224, 32)      0         \n",
            "_________________________________________________________________\n",
            "max_pooling2d_4 (MaxPooling2 (None, 112, 112, 32)      0         \n",
            "_________________________________________________________________\n",
            "dropout_6 (Dropout)          (None, 112, 112, 32)      0         \n",
            "_________________________________________________________________\n",
            "conv2d_10 (Conv2D)           (None, 112, 112, 64)      18496     \n",
            "_________________________________________________________________\n",
            "batch_normalization_12 (Batc (None, 112, 112, 64)      256       \n",
            "_________________________________________________________________\n",
            "activation_12 (Activation)   (None, 112, 112, 64)      0         \n",
            "_________________________________________________________________\n",
            "conv2d_11 (Conv2D)           (None, 112, 112, 64)      36928     \n",
            "_________________________________________________________________\n",
            "batch_normalization_13 (Batc (None, 112, 112, 64)      256       \n",
            "_________________________________________________________________\n",
            "activation_13 (Activation)   (None, 112, 112, 64)      0         \n",
            "_________________________________________________________________\n",
            "max_pooling2d_5 (MaxPooling2 (None, 56, 56, 64)        0         \n",
            "_________________________________________________________________\n",
            "dropout_7 (Dropout)          (None, 56, 56, 64)        0         \n",
            "_________________________________________________________________\n",
            "conv2d_12 (Conv2D)           (None, 56, 56, 128)       73856     \n",
            "_________________________________________________________________\n",
            "batch_normalization_14 (Batc (None, 56, 56, 128)       512       \n",
            "_________________________________________________________________\n",
            "activation_14 (Activation)   (None, 56, 56, 128)       0         \n",
            "_________________________________________________________________\n",
            "conv2d_13 (Conv2D)           (None, 56, 56, 128)       147584    \n",
            "_________________________________________________________________\n",
            "batch_normalization_15 (Batc (None, 56, 56, 128)       512       \n",
            "_________________________________________________________________\n",
            "activation_15 (Activation)   (None, 56, 56, 128)       0         \n",
            "_________________________________________________________________\n",
            "max_pooling2d_6 (MaxPooling2 (None, 28, 28, 128)       0         \n",
            "_________________________________________________________________\n",
            "dropout_8 (Dropout)          (None, 28, 28, 128)       0         \n",
            "_________________________________________________________________\n",
            "conv2d_14 (Conv2D)           (None, 28, 28, 256)       295168    \n",
            "_________________________________________________________________\n",
            "batch_normalization_16 (Batc (None, 28, 28, 256)       1024      \n",
            "_________________________________________________________________\n",
            "activation_16 (Activation)   (None, 28, 28, 256)       0         \n",
            "_________________________________________________________________\n",
            "conv2d_15 (Conv2D)           (None, 28, 28, 256)       590080    \n",
            "_________________________________________________________________\n",
            "batch_normalization_17 (Batc (None, 28, 28, 256)       1024      \n",
            "_________________________________________________________________\n",
            "activation_17 (Activation)   (None, 28, 28, 256)       0         \n",
            "_________________________________________________________________\n",
            "max_pooling2d_7 (MaxPooling2 (None, 14, 14, 256)       0         \n",
            "_________________________________________________________________\n",
            "dropout_9 (Dropout)          (None, 14, 14, 256)       0         \n",
            "_________________________________________________________________\n",
            "flatten_1 (Flatten)          (None, 50176)             0         \n",
            "_________________________________________________________________\n",
            "dense_3 (Dense)              (None, 64)                3211328   \n",
            "_________________________________________________________________\n",
            "batch_normalization_18 (Batc (None, 64)                256       \n",
            "_________________________________________________________________\n",
            "activation_18 (Activation)   (None, 64)                0         \n",
            "_________________________________________________________________\n",
            "dropout_10 (Dropout)         (None, 64)                0         \n",
            "_________________________________________________________________\n",
            "dense_4 (Dense)              (None, 128)               8320      \n",
            "_________________________________________________________________\n",
            "batch_normalization_19 (Batc (None, 128)               512       \n",
            "_________________________________________________________________\n",
            "activation_19 (Activation)   (None, 128)               0         \n",
            "_________________________________________________________________\n",
            "dropout_11 (Dropout)         (None, 128)               0         \n",
            "_________________________________________________________________\n",
            "dense_5 (Dense)              (None, 5)                 645       \n",
            "=================================================================\n",
            "Total params: 4,396,581\n",
            "Trainable params: 4,394,277\n",
            "Non-trainable params: 2,304\n",
            "_________________________________________________________________\n"
          ],
          "name": "stdout"
        }
      ]
    },
    {
      "cell_type": "code",
      "metadata": {
        "colab": {
          "base_uri": "https://localhost:8080/",
          "height": 241
        },
        "id": "zJFENU0jvCsp",
        "outputId": "876ecbb2-753b-4080-b4ce-995f67179490"
      },
      "source": [
        "# The model predicted the sample image accurately\n",
        "image = Image.open(\"train/Angry/0.jpg\")\n",
        "image = image.resize((224, 224))\n",
        "arr = np.array(image)\n",
        "x_data = [arr]\n",
        "x_data = np.array(x_data, dtype = \"float32\")\n",
        "x_data = x_data.reshape((len(x_data), 224, 224, 1))\n",
        "x_data /= 255\n",
        "\n",
        "pred_array = model.predict(x_data)\n",
        "result = reverse_classes[np.argmax(pred_array)]\n",
        "result"
      ],
      "execution_count": 42,
      "outputs": [
        {
          "output_type": "execute_result",
          "data": {
            "image/png": "[encoded data removed]",
            "text/plain": [
              "<PIL.Image.Image image mode=L size=224x224 at 0x7F2A657CB5C0>"
            ]
          },
          "metadata": {
            "tags": []
          },
          "execution_count": 42
        }
      ]
    },
    {
      "cell_type": "markdown",
      "metadata": {
        "id": "moldzwawvhyb"
      },
      "source": [
        "**Plot Training and Validation Graphs**"
      ]
    },
    {
      "cell_type": "code",
      "metadata": {
        "colab": {
          "base_uri": "https://localhost:8080/",
          "height": 499
        },
        "id": "QjsuQwjzveBO",
        "outputId": "4fe35923-cc34-4d1d-b726-eb15ea0dd855"
      },
      "source": [
        "import matplotlib.pyplot as plt\n",
        "acc = history.history['accuracy']\n",
        "val_acc = history.history['val_accuracy']\n",
        "\n",
        "loss = history.history['loss']\n",
        "val_loss = history.history['val_loss']\n",
        "\n",
        "epochs_range = range(12)\n",
        "\n",
        "plt.figure(figsize=(8, 8))\n",
        "plt.subplot(1, 2, 1)\n",
        "plt.plot(epochs_range, acc, label='Training Accuracy')\n",
        "plt.plot(epochs_range, val_acc, label='Validation Accuracy')\n",
        "plt.legend(loc='lower right')\n",
        "plt.title('Training and Validation Accuracy')\n",
        "\n",
        "plt.subplot(1, 2, 2)\n",
        "plt.plot(epochs_range, loss, label='Training Loss')\n",
        "plt.plot(epochs_range, val_loss, label='Validation Loss')\n",
        "plt.legend(loc='upper right')\n",
        "plt.title('Training and Validation Loss')\n",
        "plt.show()"
      ],
      "execution_count": 44,
      "outputs": [
        {
          "output_type": "display_data",
          "data": {
            "image/png": "[encoded data removed]",
            "text/plain": [
              "<Figure size 576x576 with 2 Axes>"
            ]
          },
          "metadata": {
            "tags": [],
            "needs_background": "light"
          }
        }
      ]
    }
  ]
}